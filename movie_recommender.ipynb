
{
 "cells": [
  {
   "cell_type": "markdown",
   "metadata": {},
   "source": [
    "# Movie Recommender System - MovieLens 100k\n",
    "Train a collaborative filtering model using cosine similarity"
   ]
  },
  {
   "cell_type": "code",
   "execution_count": null,
   "metadata": {},
   "outputs": [],
   "source": [
    "!wget https://files.grouplens.org/datasets/movielens/ml-latest-small.zip\n",
    "!unzip -o ml-latest-small.zip"
   ]
  },
  {
   "cell_type": "code",
   "execution_count": null,
   "metadata": {},
   "outputs": [],
   "source": [
    "import pandas as pd\n",
    "from sklearn.metrics.pairwise import cosine_similarity\n",
    "from sklearn.feature_extraction.text import CountVectorizer\n",
    "import pickle\n",
    "\n",
    "movies = pd.read_csv('ml-latest-small/movies.csv')\n",
    "ratings = pd.read_csv('ml-latest-small/ratings.csv')\n",
    "\n",
    "# Merge and create pivot table\n",
    "movie_data = pd.merge(ratings, movies, on='movieId')\n",
    "pivot_table = movie_data.pivot_table(index='userId', columns='title', values='rating')\n",
    "pivot_table.fillna(0, inplace=True)\n",
    "\n",
    "similarity = cosine_similarity(pivot_table.T)\n",
    "pickle.dump(similarity, open('similarity.pkl', 'wb'))\n",
    "movies.to_csv('ml-latest-small/movies.csv', index=False)"
   ]
  }
 ],
 "metadata": {
  "kernelspec": {
   "display_name": "Python 3",
   "language": "python",
   "name": "python3"
  },
  "language_info": {
   "name": "python",
   "version": "3.8"
  }
 },
 "nbformat": 4,
 "nbformat_minor": 2
}
